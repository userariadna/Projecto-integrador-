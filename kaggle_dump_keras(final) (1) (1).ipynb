{
 "cells": [
  {
   "cell_type": "code",
   "execution_count": 42,
   "id": "b3cbbb44",
   "metadata": {
    "id": "2552f94f-097a-478a-a864-75727624be69"
   },
   "outputs": [],
   "source": [
    "import pandas as pd\n",
    "import numpy as np\n",
    "from nltk.corpus import stopwords\n",
    "from nltk.tokenize import TweetTokenizer\n",
    "from nltk.stem import PorterStemmer\n",
    "from sklearn.model_selection import KFold\n",
    "import re"
   ]
  },
  {
   "cell_type": "code",
   "execution_count": 43,
   "id": "fa04c835",
   "metadata": {
    "id": "af121839"
   },
   "outputs": [],
   "source": [
    "class TweetCleaner():\n",
    "    def __init__(self):\n",
    "        pass\n",
    "\n",
    "\n",
    "    def _scrub_words(self, text):\n",
    "        # remove html markup\n",
    "        text=re.sub(\"(<.*?>)\",\"\",text)\n",
    "    \n",
    "        #remove non-ascii and digits\n",
    "        text=re.sub(\"(\\\\W|\\\\d)\",\" \",text)\n",
    "  \n",
    "        #remove whitespace\n",
    "        text=text.strip()\n",
    "        return text\n",
    "  \n",
    "    #Noise removal, stop word removal, normalizing?\n",
    "    def _cleanString(self, s, special_chars = \"\\\":,.|#ðÿœžðÿâœœïÿœžÿºÿÿœžÿ\"):\n",
    "        #remove hyperlinks and twitter usernames\n",
    "        web_regex =  r\"(?i)\\b((?:https?://|www\\d{0,3}[.]|[a-z0-9.\\-]+[.][a-z]{2,4}/)(?:[^\\s()<>]+|\\(([^\\s()<>]+|(\\([^\\s()<>]+\\)))*\\))+(?:\\(([^\\s()<>]+|(\\([^\\s()<>]+\\)))*\\)|[^\\s`!()\\[\\]{};:'\\\".,<>?«»“”‘’]))\"\n",
    "        s = re.sub('(?<!\\w)@[\\w+]{1,15}', '', s)\n",
    "        s = re.sub(web_regex, '', s)\n",
    "        \n",
    "        for char in special_chars:\n",
    "            s = s.replace(char, \"\")\n",
    "            s = s.replace(\"\\n\", \"\")\n",
    "            s = self._scrub_words(s)\n",
    "\n",
    "        tokenizer = TweetTokenizer()\n",
    "        stop_words = set(stopwords.words('english'))\n",
    "        cleaned_words = [w for w in tokenizer.tokenize(s) if w not in stop_words]\n",
    "        \n",
    "        return \" \".join(cleaned_words)\n",
    "\n",
    "    def _stemWords(self, sentence):\n",
    "        stemmer, tokenizer = PorterStemmer(), TweetTokenizer()\n",
    "        stemmed_words = [stemmer.stem(w) for w in tokenizer.tokenize(sentence)]\n",
    "        return \" \".join(stemmed_words)\n",
    "    \n",
    "    def cleanFrame(self, frame):\n",
    "        frame['clean_paper'] = frame.comment_text.apply(self._cleanString)\n",
    "\n",
    "    def stemFrame(self, frame):\n",
    "        frame['stem_paper'] = frame.clean_paper.apply(self._stemWords)\n",
    "\n",
    "    \n",
    "    def rebrand_senti(self, senti):\n",
    "        if senti != 0:\n",
    "            senti = 1\n",
    "        return senti\n",
    "\n",
    "        \n",
    "    def wordTokenize(self, sentence):\n",
    "        \"\"\"\n",
    "        This function performs word tokenization using regular expressions.\n",
    "        \"\"\"\n",
    "        regex = \"[a-zA-Z]+\" #this is another form to split the sentences into words by using regular expressions\n",
    "        tokenized = re.findall(regex, sentence) #it finds all the matching cases of the regex in the string text and it return a list of words\n",
    "        return tokenized"
   ]
  },
  {
   "cell_type": "code",
   "execution_count": 44,
   "id": "8e9e6732",
   "metadata": {
    "colab": {
     "base_uri": "https://localhost:8080/",
     "height": 417
    },
    "id": "a06703de",
    "outputId": "c8f6b92a-9a25-43bd-b550-1f21b68e23f0"
   },
   "outputs": [
    {
     "data": {
      "text/html": [
       "<div>\n",
       "<style scoped>\n",
       "    .dataframe tbody tr th:only-of-type {\n",
       "        vertical-align: middle;\n",
       "    }\n",
       "\n",
       "    .dataframe tbody tr th {\n",
       "        vertical-align: top;\n",
       "    }\n",
       "\n",
       "    .dataframe thead th {\n",
       "        text-align: right;\n",
       "    }\n",
       "</style>\n",
       "<table border=\"1\" class=\"dataframe\">\n",
       "  <thead>\n",
       "    <tr style=\"text-align: right;\">\n",
       "      <th></th>\n",
       "      <th>id</th>\n",
       "      <th>comment_text</th>\n",
       "      <th>toxic</th>\n",
       "      <th>severe_toxic</th>\n",
       "      <th>obscene</th>\n",
       "      <th>threat</th>\n",
       "      <th>insult</th>\n",
       "      <th>identity_hate</th>\n",
       "    </tr>\n",
       "  </thead>\n",
       "  <tbody>\n",
       "    <tr>\n",
       "      <th>0</th>\n",
       "      <td>0000997932d777bf</td>\n",
       "      <td>Explanation\\nWhy the edits made under my usern...</td>\n",
       "      <td>0</td>\n",
       "      <td>0</td>\n",
       "      <td>0</td>\n",
       "      <td>0</td>\n",
       "      <td>0</td>\n",
       "      <td>0</td>\n",
       "    </tr>\n",
       "    <tr>\n",
       "      <th>1</th>\n",
       "      <td>000103f0d9cfb60f</td>\n",
       "      <td>D'aww! He matches this background colour I'm s...</td>\n",
       "      <td>0</td>\n",
       "      <td>0</td>\n",
       "      <td>0</td>\n",
       "      <td>0</td>\n",
       "      <td>0</td>\n",
       "      <td>0</td>\n",
       "    </tr>\n",
       "    <tr>\n",
       "      <th>2</th>\n",
       "      <td>000113f07ec002fd</td>\n",
       "      <td>Hey man, I'm really not trying to edit war. It...</td>\n",
       "      <td>0</td>\n",
       "      <td>0</td>\n",
       "      <td>0</td>\n",
       "      <td>0</td>\n",
       "      <td>0</td>\n",
       "      <td>0</td>\n",
       "    </tr>\n",
       "    <tr>\n",
       "      <th>3</th>\n",
       "      <td>0001b41b1c6bb37e</td>\n",
       "      <td>\"\\nMore\\nI can't make any real suggestions on ...</td>\n",
       "      <td>0</td>\n",
       "      <td>0</td>\n",
       "      <td>0</td>\n",
       "      <td>0</td>\n",
       "      <td>0</td>\n",
       "      <td>0</td>\n",
       "    </tr>\n",
       "    <tr>\n",
       "      <th>4</th>\n",
       "      <td>0001d958c54c6e35</td>\n",
       "      <td>You, sir, are my hero. Any chance you remember...</td>\n",
       "      <td>0</td>\n",
       "      <td>0</td>\n",
       "      <td>0</td>\n",
       "      <td>0</td>\n",
       "      <td>0</td>\n",
       "      <td>0</td>\n",
       "    </tr>\n",
       "  </tbody>\n",
       "</table>\n",
       "</div>"
      ],
      "text/plain": [
       "                 id                                       comment_text  toxic  \\\n",
       "0  0000997932d777bf  Explanation\\nWhy the edits made under my usern...      0   \n",
       "1  000103f0d9cfb60f  D'aww! He matches this background colour I'm s...      0   \n",
       "2  000113f07ec002fd  Hey man, I'm really not trying to edit war. It...      0   \n",
       "3  0001b41b1c6bb37e  \"\\nMore\\nI can't make any real suggestions on ...      0   \n",
       "4  0001d958c54c6e35  You, sir, are my hero. Any chance you remember...      0   \n",
       "\n",
       "   severe_toxic  obscene  threat  insult  identity_hate  \n",
       "0             0        0       0       0              0  \n",
       "1             0        0       0       0              0  \n",
       "2             0        0       0       0              0  \n",
       "3             0        0       0       0              0  \n",
       "4             0        0       0       0              0  "
      ]
     },
     "execution_count": 44,
     "metadata": {},
     "output_type": "execute_result"
    }
   ],
   "source": [
    "df = pd.read_csv('train.csv')\n",
    "df.head()"
   ]
  },
  {
   "cell_type": "markdown",
   "id": "c2b0c4f2",
   "metadata": {},
   "source": [
    "# EDA"
   ]
  },
  {
   "cell_type": "code",
   "execution_count": 45,
   "id": "aa8813b0",
   "metadata": {
    "colab": {
     "base_uri": "https://localhost:8080/"
    },
    "id": "dwttg_5eZa7P",
    "outputId": "187c4d50-8633-4d42-b6d7-756c69361123"
   },
   "outputs": [
    {
     "data": {
      "text/plain": [
       "array([0, 1])"
      ]
     },
     "execution_count": 45,
     "metadata": {},
     "output_type": "execute_result"
    }
   ],
   "source": [
    "df.toxic.unique()"
   ]
  },
  {
   "cell_type": "code",
   "execution_count": 46,
   "id": "44029949",
   "metadata": {
    "colab": {
     "base_uri": "https://localhost:8080/"
    },
    "id": "VW7IgeYyZq2k",
    "outputId": "a0d43cc9-90df-4833-d8f9-eaba349ea68b"
   },
   "outputs": [
    {
     "data": {
      "text/plain": [
       "0    144277\n",
       "1     15294\n",
       "Name: toxic, dtype: int64"
      ]
     },
     "execution_count": 46,
     "metadata": {},
     "output_type": "execute_result"
    }
   ],
   "source": [
    "df.toxic.value_counts()"
   ]
  },
  {
   "cell_type": "code",
   "execution_count": 47,
   "id": "30b6a901",
   "metadata": {
    "id": "wz7T9kTXZ9x6"
   },
   "outputs": [],
   "source": [
    "pos = df[df.toxic==0]\n",
    "neg = df[df.toxic==1]\n",
    "\n",
    "size = neg.shape[0]"
   ]
  },
  {
   "cell_type": "code",
   "execution_count": 48,
   "id": "0dd34050",
   "metadata": {
    "colab": {
     "base_uri": "https://localhost:8080/"
    },
    "id": "2O5Iq_I4alOz",
    "outputId": "24d31a5e-7aaa-4b22-96a5-7441f8caf6f1"
   },
   "outputs": [
    {
     "data": {
      "text/plain": [
       "15294"
      ]
     },
     "execution_count": 48,
     "metadata": {},
     "output_type": "execute_result"
    }
   ],
   "source": [
    "pos_bal = pos.sample(len(neg))\n",
    "len(pos_bal)"
   ]
  },
  {
   "cell_type": "code",
   "execution_count": 49,
   "id": "74fc6b5c",
   "metadata": {
    "colab": {
     "base_uri": "https://localhost:8080/"
    },
    "id": "HejarNN_asQV",
    "outputId": "b71ae890-ec75-4f4d-f531-ad88d505f746"
   },
   "outputs": [
    {
     "data": {
      "text/plain": [
       "array([0])"
      ]
     },
     "execution_count": 49,
     "metadata": {},
     "output_type": "execute_result"
    }
   ],
   "source": [
    "pos_bal.toxic.unique()"
   ]
  },
  {
   "cell_type": "code",
   "execution_count": 50,
   "id": "cb6806dd",
   "metadata": {
    "colab": {
     "base_uri": "https://localhost:8080/",
     "height": 424
    },
    "id": "LPRE1W6Ra3mm",
    "outputId": "77f5b27f-3214-4ea3-bf16-6e3261961e69"
   },
   "outputs": [
    {
     "data": {
      "text/html": [
       "<div>\n",
       "<style scoped>\n",
       "    .dataframe tbody tr th:only-of-type {\n",
       "        vertical-align: middle;\n",
       "    }\n",
       "\n",
       "    .dataframe tbody tr th {\n",
       "        vertical-align: top;\n",
       "    }\n",
       "\n",
       "    .dataframe thead th {\n",
       "        text-align: right;\n",
       "    }\n",
       "</style>\n",
       "<table border=\"1\" class=\"dataframe\">\n",
       "  <thead>\n",
       "    <tr style=\"text-align: right;\">\n",
       "      <th></th>\n",
       "      <th>id</th>\n",
       "      <th>comment_text</th>\n",
       "      <th>toxic</th>\n",
       "      <th>severe_toxic</th>\n",
       "      <th>obscene</th>\n",
       "      <th>threat</th>\n",
       "      <th>insult</th>\n",
       "      <th>identity_hate</th>\n",
       "    </tr>\n",
       "  </thead>\n",
       "  <tbody>\n",
       "    <tr>\n",
       "      <th>0</th>\n",
       "      <td>3e7535facaf4d4ca</td>\n",
       "      <td>The last RFC ended with no consensus and since...</td>\n",
       "      <td>0</td>\n",
       "      <td>0</td>\n",
       "      <td>0</td>\n",
       "      <td>0</td>\n",
       "      <td>0</td>\n",
       "      <td>0</td>\n",
       "    </tr>\n",
       "    <tr>\n",
       "      <th>1</th>\n",
       "      <td>d0a8fdb00366e43d</td>\n",
       "      <td>\"\\n\\n Your links at Fatal Frame \\n\\nI saw your...</td>\n",
       "      <td>0</td>\n",
       "      <td>0</td>\n",
       "      <td>0</td>\n",
       "      <td>0</td>\n",
       "      <td>0</td>\n",
       "      <td>0</td>\n",
       "    </tr>\n",
       "    <tr>\n",
       "      <th>2</th>\n",
       "      <td>0872772b0919629e</td>\n",
       "      <td>\"\\n\\nWhat\\nHow exactly was my edit to \"\"Lil Jo...</td>\n",
       "      <td>0</td>\n",
       "      <td>0</td>\n",
       "      <td>0</td>\n",
       "      <td>0</td>\n",
       "      <td>0</td>\n",
       "      <td>0</td>\n",
       "    </tr>\n",
       "    <tr>\n",
       "      <th>3</th>\n",
       "      <td>341a65d50ccc9861</td>\n",
       "      <td>\"This comment is a classic straw man argument ...</td>\n",
       "      <td>0</td>\n",
       "      <td>0</td>\n",
       "      <td>0</td>\n",
       "      <td>0</td>\n",
       "      <td>0</td>\n",
       "      <td>0</td>\n",
       "    </tr>\n",
       "    <tr>\n",
       "      <th>4</th>\n",
       "      <td>c48864479ab0d6cf</td>\n",
       "      <td>Be prepared for HORRIBLE HORRIBLE THINGS!!!</td>\n",
       "      <td>0</td>\n",
       "      <td>0</td>\n",
       "      <td>0</td>\n",
       "      <td>0</td>\n",
       "      <td>0</td>\n",
       "      <td>0</td>\n",
       "    </tr>\n",
       "    <tr>\n",
       "      <th>...</th>\n",
       "      <td>...</td>\n",
       "      <td>...</td>\n",
       "      <td>...</td>\n",
       "      <td>...</td>\n",
       "      <td>...</td>\n",
       "      <td>...</td>\n",
       "      <td>...</td>\n",
       "      <td>...</td>\n",
       "    </tr>\n",
       "    <tr>\n",
       "      <th>30583</th>\n",
       "      <td>fef4cf7ba0012866</td>\n",
       "      <td>\"\\n\\n our previous conversation \\n\\nyou fuckin...</td>\n",
       "      <td>1</td>\n",
       "      <td>0</td>\n",
       "      <td>1</td>\n",
       "      <td>0</td>\n",
       "      <td>1</td>\n",
       "      <td>1</td>\n",
       "    </tr>\n",
       "    <tr>\n",
       "      <th>30584</th>\n",
       "      <td>ff39a2895fc3b40e</td>\n",
       "      <td>YOU ARE A MISCHIEVIOUS PUBIC HAIR</td>\n",
       "      <td>1</td>\n",
       "      <td>0</td>\n",
       "      <td>0</td>\n",
       "      <td>0</td>\n",
       "      <td>1</td>\n",
       "      <td>0</td>\n",
       "    </tr>\n",
       "    <tr>\n",
       "      <th>30585</th>\n",
       "      <td>ffa33d3122b599d6</td>\n",
       "      <td>Your absurd edits \\n\\nYour absurd edits on gre...</td>\n",
       "      <td>1</td>\n",
       "      <td>0</td>\n",
       "      <td>1</td>\n",
       "      <td>0</td>\n",
       "      <td>1</td>\n",
       "      <td>0</td>\n",
       "    </tr>\n",
       "    <tr>\n",
       "      <th>30586</th>\n",
       "      <td>ffb47123b2d82762</td>\n",
       "      <td>\"\\n\\nHey listen don't you ever!!!! Delete my e...</td>\n",
       "      <td>1</td>\n",
       "      <td>0</td>\n",
       "      <td>0</td>\n",
       "      <td>0</td>\n",
       "      <td>1</td>\n",
       "      <td>0</td>\n",
       "    </tr>\n",
       "    <tr>\n",
       "      <th>30587</th>\n",
       "      <td>ffbdbb0483ed0841</td>\n",
       "      <td>and i'm going to keep posting the stuff u dele...</td>\n",
       "      <td>1</td>\n",
       "      <td>0</td>\n",
       "      <td>1</td>\n",
       "      <td>0</td>\n",
       "      <td>1</td>\n",
       "      <td>0</td>\n",
       "    </tr>\n",
       "  </tbody>\n",
       "</table>\n",
       "<p>30588 rows × 8 columns</p>\n",
       "</div>"
      ],
      "text/plain": [
       "                     id                                       comment_text  \\\n",
       "0      3e7535facaf4d4ca  The last RFC ended with no consensus and since...   \n",
       "1      d0a8fdb00366e43d  \"\\n\\n Your links at Fatal Frame \\n\\nI saw your...   \n",
       "2      0872772b0919629e  \"\\n\\nWhat\\nHow exactly was my edit to \"\"Lil Jo...   \n",
       "3      341a65d50ccc9861  \"This comment is a classic straw man argument ...   \n",
       "4      c48864479ab0d6cf        Be prepared for HORRIBLE HORRIBLE THINGS!!!   \n",
       "...                 ...                                                ...   \n",
       "30583  fef4cf7ba0012866  \"\\n\\n our previous conversation \\n\\nyou fuckin...   \n",
       "30584  ff39a2895fc3b40e                  YOU ARE A MISCHIEVIOUS PUBIC HAIR   \n",
       "30585  ffa33d3122b599d6  Your absurd edits \\n\\nYour absurd edits on gre...   \n",
       "30586  ffb47123b2d82762  \"\\n\\nHey listen don't you ever!!!! Delete my e...   \n",
       "30587  ffbdbb0483ed0841  and i'm going to keep posting the stuff u dele...   \n",
       "\n",
       "       toxic  severe_toxic  obscene  threat  insult  identity_hate  \n",
       "0          0             0        0       0       0              0  \n",
       "1          0             0        0       0       0              0  \n",
       "2          0             0        0       0       0              0  \n",
       "3          0             0        0       0       0              0  \n",
       "4          0             0        0       0       0              0  \n",
       "...      ...           ...      ...     ...     ...            ...  \n",
       "30583      1             0        1       0       1              1  \n",
       "30584      1             0        0       0       1              0  \n",
       "30585      1             0        1       0       1              0  \n",
       "30586      1             0        0       0       1              0  \n",
       "30587      1             0        1       0       1              0  \n",
       "\n",
       "[30588 rows x 8 columns]"
      ]
     },
     "execution_count": 50,
     "metadata": {},
     "output_type": "execute_result"
    }
   ],
   "source": [
    "df = pd.concat([pos_bal, neg])\n",
    "df.reset_index(drop=True, inplace=True)\n",
    "df"
   ]
  },
  {
   "cell_type": "code",
   "execution_count": 52,
   "id": "3b51cfb5",
   "metadata": {},
   "outputs": [
    {
     "name": "stdout",
     "output_type": "stream",
     "text": [
      "0    15294\n",
      "1    15294\n",
      "Name: toxic, dtype: int64\n"
     ]
    },
    {
     "name": "stderr",
     "output_type": "stream",
     "text": [
      "/home/ulises/.local/lib/python3.8/site-packages/seaborn/_decorators.py:36: FutureWarning: Pass the following variable as a keyword arg: x. From version 0.12, the only valid positional argument will be `data`, and passing other arguments without an explicit keyword will result in an error or misinterpretation.\n",
      "  warnings.warn(\n"
     ]
    },
    {
     "data": {
      "image/png": "[encoded data removed]",
      "text/plain": [
       "<Figure size 432x288 with 1 Axes>"
      ]
     },
     "metadata": {
      "needs_background": "light"
     },
     "output_type": "display_data"
    }
   ],
   "source": [
    "#Balancing the data to solve undersampling\n",
    "print(df.toxic.value_counts())\n",
    "sns.countplot(df.toxic)\n",
    "plt.show()"
   ]
  },
  {
   "cell_type": "code",
   "execution_count": 10,
   "id": "5f87a438",
   "metadata": {
    "colab": {
     "base_uri": "https://localhost:8080/"
    },
    "id": "THQOShZgbFmz",
    "outputId": "f1816b44-f757-4204-bee1-e13b760a0318"
   },
   "outputs": [
    {
     "data": {
      "text/plain": [
       "0    15294\n",
       "1    15294\n",
       "Name: toxic, dtype: int64"
      ]
     },
     "execution_count": 10,
     "metadata": {},
     "output_type": "execute_result"
    }
   ],
   "source": [
    "df.toxic.value_counts()"
   ]
  },
  {
   "cell_type": "code",
   "execution_count": 11,
   "id": "3b2cf0cf",
   "metadata": {},
   "outputs": [
    {
     "name": "stderr",
     "output_type": "stream",
     "text": [
      "/tmp/ipykernel_11842/2826411018.py:1: FutureWarning: Dropping of nuisance columns in DataFrame reductions (with 'numeric_only=None') is deprecated; in a future version this will raise TypeError.  Select only valid columns before calling the reduction.\n",
      "  labelScore = list(df.sum(axis = 1, skipna = True))\n"
     ]
    }
   ],
   "source": [
    "labelScore = list(df.sum(axis = 1, skipna = True))\n",
    "newLabelScore = [1 if (x>0) else 0 for x in labelScore]"
   ]
  },
  {
   "cell_type": "code",
   "execution_count": 12,
   "id": "4ca15c2d",
   "metadata": {},
   "outputs": [],
   "source": [
    "df['Toxic'] = newLabelScore\n",
    "labelColumns=['toxic','severe_toxic','obscene','threat','insult','identity_hate','id']\n",
    "data = df.drop(columns=labelColumns)"
   ]
  },
  {
   "cell_type": "code",
   "execution_count": 13,
   "id": "d6b67abc",
   "metadata": {},
   "outputs": [
    {
     "data": {
      "text/html": [
       "<div>\n",
       "<style scoped>\n",
       "    .dataframe tbody tr th:only-of-type {\n",
       "        vertical-align: middle;\n",
       "    }\n",
       "\n",
       "    .dataframe tbody tr th {\n",
       "        vertical-align: top;\n",
       "    }\n",
       "\n",
       "    .dataframe thead th {\n",
       "        text-align: right;\n",
       "    }\n",
       "</style>\n",
       "<table border=\"1\" class=\"dataframe\">\n",
       "  <thead>\n",
       "    <tr style=\"text-align: right;\">\n",
       "      <th></th>\n",
       "      <th>comment_text</th>\n",
       "      <th>Toxic</th>\n",
       "    </tr>\n",
       "  </thead>\n",
       "  <tbody>\n",
       "    <tr>\n",
       "      <th>0</th>\n",
       "      <td>Hey, I failed to notice this message previousl...</td>\n",
       "      <td>0</td>\n",
       "    </tr>\n",
       "    <tr>\n",
       "      <th>1</th>\n",
       "      <td>\":::Please dont keep leaving your useless tral...</td>\n",
       "      <td>0</td>\n",
       "    </tr>\n",
       "    <tr>\n",
       "      <th>2</th>\n",
       "      <td>\"\\n\\nSlash \"\"/\"\" and backslash \"\"\\\"\" are the h...</td>\n",
       "      <td>0</td>\n",
       "    </tr>\n",
       "    <tr>\n",
       "      <th>3</th>\n",
       "      <td>\"\\nMaybe there's a better way to do it... Not ...</td>\n",
       "      <td>0</td>\n",
       "    </tr>\n",
       "    <tr>\n",
       "      <th>4</th>\n",
       "      <td>\"\\n\\nThank you for your view.  However, could ...</td>\n",
       "      <td>0</td>\n",
       "    </tr>\n",
       "  </tbody>\n",
       "</table>\n",
       "</div>"
      ],
      "text/plain": [
       "                                        comment_text  Toxic\n",
       "0  Hey, I failed to notice this message previousl...      0\n",
       "1  \":::Please dont keep leaving your useless tral...      0\n",
       "2  \"\\n\\nSlash \"\"/\"\" and backslash \"\"\\\"\" are the h...      0\n",
       "3  \"\\nMaybe there's a better way to do it... Not ...      0\n",
       "4  \"\\n\\nThank you for your view.  However, could ...      0"
      ]
     },
     "execution_count": 13,
     "metadata": {},
     "output_type": "execute_result"
    }
   ],
   "source": [
    "data.head()"
   ]
  },
  {
   "cell_type": "code",
   "execution_count": 14,
   "id": "aeaac37c",
   "metadata": {},
   "outputs": [],
   "source": [
    "class PreProcessor:\n",
    "    \n",
    "    def __init__(self, noise_chars):\n",
    "        self.noise_chars = noise_chars #declare the noisy characters, we do not use @ or # as we need them for regex extraction\n",
    "    \n",
    "    def removeNoise(self, string):\n",
    "        \"\"\"\n",
    "        This function removes noise from the text by lowering cases, removing character entities\n",
    "        references, removing links, and removing given noisy characters.\n",
    "        \"\"\"\n",
    "        string = string.lower() #converts the text to lower case \n",
    "        string = re.sub('&[a-zA-Z]+;', '', string) #remove character entities reference\n",
    "        string = re.sub('http\\S+', '', string)#remove links\n",
    "        string = re.sub('www\\S+', '', string)\n",
    "        string = re.sub(\"\\\\xa0·\", \" \", string)\n",
    "        string = re.sub(\"(UTC)\", \" \", string)\n",
    "        string = re.sub('^b\\s+', '', string)\n",
    "        string = re.sub('@[A-Za-z0-9]+', '', string)\n",
    "        string = re.sub(\"â€\\x9d&lt;\", \"\", string)\n",
    "        string = re.sub(\"â€œ:\", \"\", string)\n",
    "        string = re.sub('pleas', 'please', string)\n",
    "        string = re.sub('dont', 'do not', string)\n",
    "        for char in self.noise_chars:\n",
    "            string = string.replace(char, '') #removes any noisy character from the list noise_chars\n",
    "        cleaned = string #the cleaned string is passed and returned\n",
    "        return cleaned\n",
    "    \n",
    "    def removeStopwords(self, string):\n",
    "        \"\"\"\n",
    "        This function removes stopwords from the text. It uses a corpus of stopwords from NLTK and they \n",
    "        can be extended.\n",
    "        \"\"\"\n",
    "        words = []\n",
    "        for i in string.split(\" \"):#split the text into spaces so it is divided into words\n",
    "            words.append(i) #each word is appended in the list of words\n",
    "        stop_words = stopwords.words('english') #the stopwords corpus provided by NLTK is used for remove them\n",
    "        stop_words.extend(['that','thats','oh', 'aww', 'mr', 'r', 'what', 'etc', 'hey', 'within', 'foi', 'yeah', 'www', 'wa', 'em', 'am', 'i', 'me', 'dialmformurderjpg' ]) #we can extend the list of stopwords in this line\n",
    "        cleaned = [w for w in words if w not in stop_words] #each word in the list of words is checked for stopwords in the corpus\n",
    "        cleaned_stopwords = \" \".join(cleaned)\n",
    "        return cleaned_stopwords\n",
    "    \n",
    "    def textNormalization(self, string):\n",
    "        \"\"\"\n",
    "        This function normalizes text by reducing length of letters in words and correcting spelling of words.\n",
    "        \"\"\"\n",
    "        normalized = []\n",
    "        tokenizer = nltk.tokenize.TweetTokenizer() #we use the TweetTokenizer to reduce length of letters in the words\n",
    "        len_reduced = tokenizer.tokenize(string) #the function is applied to the text returning the length reduced\n",
    "        for word in len_reduced:\n",
    "            check_spell = TextBlob(word) #we use TextBlob spelling checking as the minimum lenght applied by TweetTokenizer is three letters and there can be some mispelled words\n",
    "            normalized.append(str(check_spell.correct())) #it is returned the correct spell of the word and appended to normalized list of words\n",
    "        normalized = \" \".join(normalized)\n",
    "        return normalized\n",
    "    \n",
    "    def stemWords(self, string):\n",
    "        \"\"\"\n",
    "        This function performs stemming of words by chopping off inlfections of words using Port Stemmer algorithm.\n",
    "        Also it corrects mispelling of words.\n",
    "        \"\"\"\n",
    "        words = []\n",
    "        stemmed = []\n",
    "        for i in string.split(\" \"):\n",
    "            words.append(i)\n",
    "        stemmer = PorterStemmer() #it is used PorterStemmer to reducing inflection of words to their original word form\n",
    "        stemmed_words = [stemmer.stem(w) for w in words] #it is applied to each word\n",
    "        for word in stemmed_words:\n",
    "            check_spell = TextBlob(word) #again, we use spelling checking as some words might result mispelled or not complete\n",
    "            stemmed.append(str(check_spell.correct()))\n",
    "        stemmed = \" \".join(stemmed)\n",
    "        return stemmed\n",
    "    \n",
    "    def lemmatizeWords(self, string):\n",
    "        \"\"\"\n",
    "        This function performs word lemmatization by transforming inflections of words in their root form using\n",
    "        WordNetLemmatization from NLTK. Also it checks mispelling of words.\n",
    "        \"\"\"\n",
    "        words = []\n",
    "        lemmatized = []\n",
    "        for i in string.split(\" \"):\n",
    "            words.append(i)\n",
    "        lemmatizer = WordNetLemmatizer() #it is used WordNetLemmatizer to transform word inflections to root form. It is similar to stemming but it does not just chop off words.\n",
    "        lemmatized_words = [lemmatizer.lemmatize(w) for w in words] #it is applied to each word\n",
    "        for word in lemmatized_words:\n",
    "            check_spell = TextBlob(word) #again, we use spelling checking as some words might result mispelled or not complete\n",
    "            lemmatized.append(str(check_spell.correct()))\n",
    "        lemmatized = \" \".join(lemmatized)\n",
    "        return lemmatized\n",
    "    \n",
    "    def wordTokenize(self, string):\n",
    "        \"\"\"\n",
    "        This function performs word tokenization using regular expressions.\n",
    "        \"\"\"\n",
    "        regex = \"[a-zA-Z]+\" #this is another form to split the sentences into words by using regular expressions\n",
    "        tokenized = re.findall(regex, string) #it finds all the matching cases of the regex in the string text and it return a list of words\n",
    "        return tokenized\n",
    "\n",
    "    \n",
    "    def process(self, string):\n",
    "        \"\"\"\n",
    "        This function summarizes and apply all the preprocessing tasks.\n",
    "        \"\"\"\n",
    "        cleaned = self.removeNoise(string)\n",
    "        cleaned_stopwords = self.removeStopwords(cleaned)\n",
    "        normalized = self.textNormalization(cleaned_stopwords)\n",
    "        stemmed = self.stemWords(normalized)\n",
    "        #lemmatized = self.lemmatizeWords(normalized)\n",
    "        tokenized = \" \".join(self.wordTokenize(stemmed))\n",
    "        cleaned = self.removeNoise(tokenized)\n",
    "        preprocessed = self.removeStopwords(cleaned)\n",
    "        return preprocessed"
   ]
  },
  {
   "cell_type": "code",
   "execution_count": 15,
   "id": "32ed17e4",
   "metadata": {},
   "outputs": [],
   "source": [
    "class Classifier:\n",
    "\n",
    "  def __init__(self, pre_processor = None, max_features=20000, maxlen=100):\n",
    "    self.preProcessor = pre_processor if pre_processor else PreProcessor(\"#@,.?!¬-\\''=()\") #this calls the PreProcessor class\n",
    "    self.max_features = max_features\n",
    "    self.maxlen = maxlen\n",
    "\n",
    "  def prepare_data(self, X):\n",
    "    \"\"\"\n",
    "    This function prepares the data by performing preprocessing and vectorization.\n",
    "    \"\"\"\n",
    "    try: #try if the data is more than 1 record\n",
    "      preprocessed = []\n",
    "      for comment in X:\n",
    "          preprocessed.append(self.preProcessor.process(comment))\n",
    "      pickle.dump(preprocessed, open('preprocessed_data.pickle','wb')) #save preprocessed comments in a pickle file\n",
    "      data_prepared = self.vectorize(preprocessed)\n",
    "    except: #do if it is only 1 record\n",
    "      preprocessed = self.preProcessor.process(X)\n",
    "      data_prepared = self.vectorize(preprocessed)\n",
    "\n",
    "    return data_prepared\n",
    "\n",
    "  def get_model(self):\n",
    "    \"\"\"\n",
    "    A Keras model consists of:\n",
    "    An architecture, or configuration, which specifies what layers the model contain, and how they're connected.\n",
    "    A set of weights values (the \"state of the model\").\n",
    "    An optimizer state (defined by compiling the model).\n",
    "    A set of losses and metrics (defined by compiling the model).\n",
    "    \"\"\"\n",
    "    #define the architecture of the neural network\n",
    "    embed_size = 128\n",
    "    inp = Input(shape=(self.maxlen, )) #input layer\n",
    "    x = Embedding(self.max_features, embed_size)(inp) #useful for NLP tasks\n",
    "    x = Bidirectional(LSTM(50, return_sequences=True))(x) #50 neurons; bidirectional used for give information backwards\n",
    "    x = GlobalMaxPool1D()(x) #to get highest activation of the previous layer\n",
    "    x = Dropout(0.1)(x) #Regularization strategy\n",
    "    x = Dense(50, activation=\"relu\")(x) #fully connected  \n",
    "    x = Dropout(0.1)(x)\n",
    "    x = Dense(1, activation=\"sigmoid\")(x) #1 neuron for only one class (toxic or non-toxic), change according to the number of classes \n",
    "    model = Model(inputs=inp, outputs=x)\n",
    "    model.compile(loss='binary_crossentropy',\n",
    "                  optimizer='adam',\n",
    "                  metrics=['accuracy'])\n",
    "\n",
    "    return model\n",
    "\n",
    "  def vectorize(self, X):\n",
    "    \"\"\"\n",
    "    This function vectorizes the preprocessed data.\n",
    "    \"\"\"\n",
    "    list_sentences = X\n",
    "    tokenizer = text.Tokenizer(num_words=self.max_features)\n",
    "    tokenizer.fit_on_texts(list(list_sentences))\n",
    "    list_tokenized = tokenizer.texts_to_sequences(list_sentences) #receive text and return a sequence (indexes of the words)\n",
    "    X_vector = sequence.pad_sequences(list_tokenized, maxlen=self.maxlen) #pads with zeros to fulfill the maxlen if not reached\n",
    "    \n",
    "    return X_vector\n",
    "\n",
    "  def fit(self, X, y, batch_size=32, epochs=2):\n",
    "    \"\"\"\n",
    "    This function performs the training of the model.\n",
    "    It also saves the model in a given location with the best weightss.\n",
    "    \"\"\"\n",
    "    #self.X_vector = self.prepare_data(X)\n",
    "    self.X_vector = X\n",
    "    model = self.get_model()\n",
    "    self.batch_size = batch_size #number of samples of the network in order to estimate the gradient\n",
    "    self.epochs = epochs\n",
    "\n",
    "    #Defining the callbacks\n",
    "    file_path=\"weights_base.best.hdf5\"\n",
    "    checkpoint = ModelCheckpoint(file_path, monitor='val_loss', verbose=1, save_best_only=True, mode='min') #after each epoch, saves the best weights of the best neural network\n",
    "\n",
    "    early = EarlyStopping(monitor=\"val_loss\", mode=\"min\", patience=20) #monitors if validation loss is getting worse, it stops\n",
    "\n",
    "    callbacks_list = [checkpoint, early]\n",
    "    history = model.fit(self.X_vector, y, batch_size=self.batch_size, epochs=self.epochs, validation_split=0.1, callbacks=callbacks_list)\n",
    "\n",
    "    model.load_weights(file_path)\n",
    "    model.save('./drive/MyDrive/classificationModel_compiled')\n",
    "\n",
    "    return history\n",
    "\n",
    "\n",
    "  def predict(self, X):\n",
    "    \"\"\"\n",
    "    This function performs prediction of data by loading a saved model.\n",
    "    \"\"\"\n",
    "    #X_vector = self.prepare_data(X)\n",
    "    X_vector = X\n",
    "    self.model = load_model('./drive/MyDrive/classificationModel_compiled')\n",
    "    return self.model.predict(X_vector)\n",
    "\n",
    "  def summarize(self):\n",
    "    \"\"\"\n",
    "    This model summirizes the model.\n",
    "    \"\"\"\n",
    "    model = self.get_model()\n",
    "    model.summary()\n",
    "\n",
    "  def evaluate(self, X, y):\n",
    "    #X_vector = self.prepare_data(X)\n",
    "    X_vector = X\n",
    "    self.model = load_model('./drive/MyDrive/classificationModel_compiled')\n",
    "    loss, acc = self.model.evaluate(X_vector, y, verbose=2)\n",
    "    print('Restored model, accuracy: {:5.2f}%'.format(100 * acc))\n",
    "\n",
    "  def plot_history(self, history):\n",
    "    \"\"\"\n",
    "    This function plots both accuracy and loss history during epochs of the training process.\n",
    "    \"\"\"\n",
    "    # summarize history for accuracy\n",
    "    self.history = history\n",
    "    plt.plot(self.history.history['accuracy'])\n",
    "    plt.plot(self.history.history['val_accuracy'])\n",
    "    plt.title('model accuracy')\n",
    "    plt.ylabel('accuracy')\n",
    "    plt.xlabel('epoch')\n",
    "    plt.legend(['train', 'test'], loc='upper left')\n",
    "    plt.show()\n",
    "    # summarize history for loss\n",
    "    plt.plot(self.history.history['loss'])\n",
    "    plt.plot(self.history.history['val_loss'])\n",
    "    plt.title('model loss')\n",
    "    plt.ylabel('loss')\n",
    "    plt.xlabel('epoch')\n",
    "    plt.legend(['train', 'test'], loc='upper left')\n",
    "    plt.show()\n",
    "\n",
    "  def plot_model(self):\n",
    "    \"\"\"\n",
    "    This function saves a plot of the model.\n",
    "    \"\"\"\n",
    "    plot_model(self.get_model())"
   ]
  },
  {
   "cell_type": "code",
   "execution_count": 16,
   "id": "033ddcbd",
   "metadata": {},
   "outputs": [],
   "source": [
    "classifier = Classifier()"
   ]
  },
  {
   "cell_type": "code",
   "execution_count": 17,
   "id": "5ee40360",
   "metadata": {},
   "outputs": [
    {
     "name": "stderr",
     "output_type": "stream",
     "text": [
      "2021-12-03 12:40:34.491364: W tensorflow/stream_executor/platform/default/dso_loader.cc:64] Could not load dynamic library 'libcudart.so.11.0'; dlerror: libcudart.so.11.0: cannot open shared object file: No such file or directory\n",
      "2021-12-03 12:40:34.491445: I tensorflow/stream_executor/cuda/cudart_stub.cc:29] Ignore above cudart dlerror if you do not have a GPU set up on your machine.\n"
     ]
    }
   ],
   "source": [
    "from itertools import product\n",
    "import random\n",
    "import pickle\n",
    "import re\n",
    "import nltk\n",
    "from nltk.corpus import stopwords\n",
    "from nltk.tokenize import TweetTokenizer\n",
    "from nltk.stem import PorterStemmer, WordNetLemmatizer\n",
    "from textblob import TextBlob \n",
    "import numpy as np # linear algebra\n",
    "import pandas as pd # data processing, CSV file I/O (e.g. pd.read_csv)\n",
    "from sklearn.model_selection import train_test_split\n",
    "from keras.models import Model\n",
    "from keras.layers import Dense, Embedding, Input\n",
    "from keras.layers import LSTM, Bidirectional, GlobalMaxPool1D, Dropout\n",
    "from keras.preprocessing import text, sequence\n",
    "from keras.callbacks import EarlyStopping, ModelCheckpoint\n",
    "from keras.utils.vis_utils import plot_model\n",
    "from keras.models import load_model\n",
    "from sklearn.pipeline import Pipeline\n",
    "from sklearn.metrics import classification_report, precision_recall_fscore_support\n",
    "import seaborn as sns\n",
    "import matplotlib.pyplot as plt"
   ]
  },
  {
   "cell_type": "code",
   "execution_count": 18,
   "id": "c5191f6f",
   "metadata": {},
   "outputs": [],
   "source": [
    "X = df[\"comment_text\"].fillna(\"NODATA\").values\n",
    "y = df['toxic'].values"
   ]
  },
  {
   "cell_type": "code",
   "execution_count": 19,
   "id": "be5158bf",
   "metadata": {},
   "outputs": [],
   "source": [
    "X_train, X_test, y_train, y_test = train_test_split(X, y, test_size=0.2, random_state=42)"
   ]
  },
  {
   "cell_type": "code",
   "execution_count": 20,
   "id": "bd9a5deb",
   "metadata": {},
   "outputs": [],
   "source": [
    "X_vectorized = classifier.vectorize(X_train)"
   ]
  },
  {
   "cell_type": "code",
   "execution_count": 21,
   "id": "11f59ee6",
   "metadata": {},
   "outputs": [
    {
     "name": "stderr",
     "output_type": "stream",
     "text": [
      "2021-12-03 12:41:00.728479: W tensorflow/stream_executor/platform/default/dso_loader.cc:64] Could not load dynamic library 'libcuda.so.1'; dlerror: libcuda.so.1: cannot open shared object file: No such file or directory\n",
      "2021-12-03 12:41:00.728554: W tensorflow/stream_executor/cuda/cuda_driver.cc:269] failed call to cuInit: UNKNOWN ERROR (303)\n",
      "2021-12-03 12:41:00.728615: I tensorflow/stream_executor/cuda/cuda_diagnostics.cc:156] kernel driver does not appear to be running on this host (ulises-Lenovo-ideapad-320-15IKB): /proc/driver/nvidia/version does not exist\n",
      "2021-12-03 12:41:00.729262: I tensorflow/core/platform/cpu_feature_guard.cc:142] This TensorFlow binary is optimized with oneAPI Deep Neural Network Library (oneDNN) to use the following CPU instructions in performance-critical operations:  AVX2 FMA\n",
      "To enable them in other operations, rebuild TensorFlow with the appropriate compiler flags.\n",
      "2021-12-03 12:41:02.264459: I tensorflow/compiler/mlir/mlir_graph_optimization_pass.cc:185] None of the MLIR Optimization Passes are enabled (registered 2)\n"
     ]
    },
    {
     "name": "stdout",
     "output_type": "stream",
     "text": [
      "Epoch 1/2\n",
      "689/689 [==============================] - 64s 87ms/step - loss: 0.2976 - accuracy: 0.8689 - val_loss: 0.2262 - val_accuracy: 0.9056\n",
      "\n",
      "Epoch 00001: val_loss improved from inf to 0.22616, saving model to weights_base.best.hdf5\n",
      "Epoch 2/2\n",
      "689/689 [==============================] - 60s 87ms/step - loss: 0.1433 - accuracy: 0.9457 - val_loss: 0.2567 - val_accuracy: 0.8991\n",
      "\n",
      "Epoch 00002: val_loss did not improve from 0.22616\n"
     ]
    },
    {
     "name": "stderr",
     "output_type": "stream",
     "text": [
      "2021-12-03 12:43:12.014627: W tensorflow/python/util/util.cc:348] Sets are not currently considered sequences, but this may change in the future, so consider avoiding using them.\n",
      "WARNING:absl:Found untraced functions such as lstm_cell_1_layer_call_fn, lstm_cell_1_layer_call_and_return_conditional_losses, lstm_cell_2_layer_call_fn, lstm_cell_2_layer_call_and_return_conditional_losses, lstm_cell_1_layer_call_fn while saving (showing 5 of 10). These functions will not be directly callable after loading.\n"
     ]
    },
    {
     "name": "stdout",
     "output_type": "stream",
     "text": [
      "INFO:tensorflow:Assets written to: ./drive/MyDrive/classificationModel_compiled/assets\n"
     ]
    },
    {
     "name": "stderr",
     "output_type": "stream",
     "text": [
      "INFO:tensorflow:Assets written to: ./drive/MyDrive/classificationModel_compiled/assets\n"
     ]
    }
   ],
   "source": [
    "history = classifier.fit(X_vectorized, y_train, epochs=2)"
   ]
  },
  {
   "cell_type": "markdown",
   "id": "345e13aa",
   "metadata": {},
   "source": [
    "# Metric Evaluation"
   ]
  },
  {
   "cell_type": "code",
   "execution_count": 22,
   "id": "fde54675",
   "metadata": {},
   "outputs": [],
   "source": [
    "X_test_vectorized = classifier.vectorize(X_test)"
   ]
  },
  {
   "cell_type": "code",
   "execution_count": 23,
   "id": "c242d25a",
   "metadata": {},
   "outputs": [],
   "source": [
    "predicted = classifier.predict(X_test_vectorized)"
   ]
  },
  {
   "cell_type": "code",
   "execution_count": 24,
   "id": "72d125be",
   "metadata": {},
   "outputs": [
    {
     "name": "stdout",
     "output_type": "stream",
     "text": [
      "              precision    recall  f1-score   support\n",
      "\n",
      "           0     0.5594    0.3335    0.4179      3121\n",
      "           1     0.5114    0.7264    0.6002      2997\n",
      "\n",
      "    accuracy                         0.5260      6118\n",
      "   macro avg     0.5354    0.5300    0.5091      6118\n",
      "weighted avg     0.5359    0.5260    0.5072      6118\n",
      "\n"
     ]
    }
   ],
   "source": [
    "print(classification_report(y_test, predicted.round(), digits=4, zero_division=0))"
   ]
  },
  {
   "cell_type": "code",
   "execution_count": 25,
   "id": "a9bf5309",
   "metadata": {},
   "outputs": [
    {
     "name": "stdout",
     "output_type": "stream",
     "text": [
      "765/765 - 11s - loss: 0.1410 - accuracy: 0.9471\n",
      "Restored model, accuracy: 94.71%\n"
     ]
    }
   ],
   "source": [
    "classifier.evaluate(X_vectorized, y_train)"
   ]
  },
  {
   "cell_type": "code",
   "execution_count": 26,
   "id": "c2116cb5",
   "metadata": {},
   "outputs": [
    {
     "name": "stdout",
     "output_type": "stream",
     "text": [
      "Model: \"model_1\"\n",
      "_________________________________________________________________\n",
      "Layer (type)                 Output Shape              Param #   \n",
      "=================================================================\n",
      "input_2 (InputLayer)         [(None, 100)]             0         \n",
      "_________________________________________________________________\n",
      "embedding_1 (Embedding)      (None, 100, 128)          2560000   \n",
      "_________________________________________________________________\n",
      "bidirectional_1 (Bidirection (None, 100, 100)          71600     \n",
      "_________________________________________________________________\n",
      "global_max_pooling1d_1 (Glob (None, 100)               0         \n",
      "_________________________________________________________________\n",
      "dropout_2 (Dropout)          (None, 100)               0         \n",
      "_________________________________________________________________\n",
      "dense_2 (Dense)              (None, 50)                5050      \n",
      "_________________________________________________________________\n",
      "dropout_3 (Dropout)          (None, 50)                0         \n",
      "_________________________________________________________________\n",
      "dense_3 (Dense)              (None, 1)                 51        \n",
      "=================================================================\n",
      "Total params: 2,636,701\n",
      "Trainable params: 2,636,701\n",
      "Non-trainable params: 0\n",
      "_________________________________________________________________\n"
     ]
    }
   ],
   "source": [
    "classifier.summarize()"
   ]
  },
  {
   "cell_type": "code",
   "execution_count": null,
   "id": "460ca217",
   "metadata": {},
   "outputs": [],
   "source": []
  },
  {
   "cell_type": "markdown",
   "id": "37ef863c",
   "metadata": {},
   "source": [
    "# Loss and accuracy graphics"
   ]
  },
  {
   "cell_type": "code",
   "execution_count": 27,
   "id": "6b7a2798",
   "metadata": {},
   "outputs": [
    {
     "data": {
      "image/png": "[encoded data removed]",
      "text/plain": [
       "<Figure size 432x288 with 1 Axes>"
      ]
     },
     "metadata": {
      "needs_background": "light"
     },
     "output_type": "display_data"
    }
   ],
   "source": [
    "#Ploy the accuracy of the model in the train data\n",
    "plt.plot(history.history['accuracy']) \n",
    "plt.title('Model accuracy results')\n",
    "plt.ylabel('accuracy')\n",
    "plt.xlabel('epochs')\n",
    "plt.show()"
   ]
  },
  {
   "cell_type": "code",
   "execution_count": 28,
   "id": "364ebbb0",
   "metadata": {},
   "outputs": [
    {
     "data": {
      "image/png": "[encoded data removed]",
      "text/plain": [
       "<Figure size 432x288 with 1 Axes>"
      ]
     },
     "metadata": {
      "needs_background": "light"
     },
     "output_type": "display_data"
    }
   ],
   "source": [
    "#Plot the loss in the train data\n",
    "plt.plot(history.history['loss'])\n",
    "plt.title('Model loss results')\n",
    "plt.ylabel('Loss')\n",
    "plt.xlabel('epochs')\n",
    "plt.show()"
   ]
  },
  {
   "cell_type": "code",
   "execution_count": null,
   "id": "9821fbc8",
   "metadata": {},
   "outputs": [],
   "source": []
  },
  {
   "cell_type": "code",
   "execution_count": null,
   "id": "cac195f1",
   "metadata": {},
   "outputs": [],
   "source": []
  },
  {
   "cell_type": "code",
   "execution_count": null,
   "id": "bc927e7b",
   "metadata": {},
   "outputs": [],
   "source": []
  },
  {
   "cell_type": "code",
   "execution_count": null,
   "id": "e5ba4665",
   "metadata": {},
   "outputs": [],
   "source": []
  },
  {
   "cell_type": "code",
   "execution_count": null,
   "id": "d6d5cab5",
   "metadata": {},
   "outputs": [],
   "source": []
  },
  {
   "cell_type": "code",
   "execution_count": null,
   "id": "05f81ec5",
   "metadata": {},
   "outputs": [],
   "source": []
  },
  {
   "cell_type": "code",
   "execution_count": null,
   "id": "50aeaa20",
   "metadata": {},
   "outputs": [],
   "source": []
  },
  {
   "cell_type": "code",
   "execution_count": null,
   "id": "bc8a9881",
   "metadata": {},
   "outputs": [],
   "source": []
  },
  {
   "cell_type": "code",
   "execution_count": null,
   "id": "c31d3334",
   "metadata": {},
   "outputs": [],
   "source": []
  },
  {
   "cell_type": "code",
   "execution_count": null,
   "id": "17d509ea",
   "metadata": {},
   "outputs": [],
   "source": []
  },
  {
   "cell_type": "raw",
   "id": "dba3a795",
   "metadata": {
    "colab": {
     "base_uri": "https://localhost:8080/"
    },
    "id": "hWhWsTUCNyzs",
    "outputId": "ce044243-dfb3-45ce-eb63-382d652dc8a8"
   },
   "source": [
    "df.columns"
   ]
  },
  {
   "cell_type": "raw",
   "id": "6f598fa9",
   "metadata": {
    "colab": {
     "base_uri": "https://localhost:8080/"
    },
    "id": "v5DjzL4JN7Qx",
    "outputId": "39df37cc-4af0-44fa-85ac-aedb79b483d2"
   },
   "source": [
    "import nltk\n",
    "nltk.download(\"stopwords\")"
   ]
  },
  {
   "cell_type": "raw",
   "id": "0de1683e",
   "metadata": {
    "colab": {
     "base_uri": "https://localhost:8080/",
     "height": 310
    },
    "id": "9c2cd9f0",
    "outputId": "93a8ced6-1e19-4910-ac37-349ff22ac6d1"
   },
   "source": [
    "clr = TweetCleaner()\n",
    "clr.cleanFrame(df)\n",
    "clr.stemFrame(df)\n",
    "\n",
    "#df.senti = df.senti.apply(clr.rebrand_senti)\n",
    "df.head()"
   ]
  },
  {
   "cell_type": "raw",
   "id": "e246c158",
   "metadata": {},
   "source": [
    "df2=df[['stem_paper','toxic']]"
   ]
  },
  {
   "cell_type": "raw",
   "id": "db0b9549",
   "metadata": {},
   "source": [
    "df2.head()"
   ]
  },
  {
   "cell_type": "code",
   "execution_count": null,
   "id": "6aa0d1c4",
   "metadata": {},
   "outputs": [],
   "source": []
  },
  {
   "cell_type": "code",
   "execution_count": null,
   "id": "fe440a43",
   "metadata": {},
   "outputs": [],
   "source": []
  },
  {
   "cell_type": "raw",
   "id": "315be459",
   "metadata": {
    "colab": {
     "base_uri": "https://localhost:8080/"
    },
    "id": "0a4e594b",
    "outputId": "c757a1be-d579-40ce-c202-60f8ac74e7f8"
   },
   "source": [
    "def get_vocab(df):\n",
    "    tweets  = ' '.join(list(df.stem_paper))\n",
    "    V = []\n",
    "    stop_words = set(stopwords.words('english'))\n",
    "    for word in tweets.split():\n",
    "        if (word not in V) and (word not in stop_words): \n",
    "            V.append(word)\n",
    "    return V\n",
    "\n",
    "V = get_vocab(df)\n",
    "print(len(V))"
   ]
  },
  {
   "cell_type": "raw",
   "id": "7c03f057",
   "metadata": {
    "id": "c237569a"
   },
   "source": [
    "def word_frequencies(df, V):\n",
    "    pos_fr = dict.fromkeys(V, 0)\n",
    "    neg_fr = dict.fromkeys(V, 0)\n",
    "\n",
    "    for i in range(df.shape[0]):\n",
    "        word_list = (df.iloc[i].stem_paper).split(' ')\n",
    "        sent = df.iloc[i].toxic\n",
    "        for word in word_list:\n",
    "            if word in V:\n",
    "                if sent == 0:\n",
    "                    neg_fr[word] += 1\n",
    "                else:\n",
    "                    pos_fr[word] += 1\n",
    "                    \n",
    "    return (pos_fr, neg_fr)"
   ]
  },
  {
   "cell_type": "raw",
   "id": "b5bc8169",
   "metadata": {
    "id": "2448145c"
   },
   "source": [
    "pos_dict, neg_dict = word_frequencies(df,V)"
   ]
  },
  {
   "cell_type": "raw",
   "id": "9d7d742a",
   "metadata": {
    "id": "72ec898d"
   },
   "source": [
    "def transform_data(df, pos_dict, neg_dict, V):\n",
    "    new_df = {'bias':[], 'positivity':[], 'negativity':[], 'target_senti':[]}\n",
    "    stemed_sentences = df.stem_paper\n",
    "   \n",
    "    for sentence in stemed_sentences:\n",
    "        positivity = 0\n",
    "        negativity = 0\n",
    "        words = sentence.split()\n",
    "        #count positivity\n",
    "        for word in words:\n",
    "            if word in V:\n",
    "                positivity += pos_dict[word]\n",
    "                negativity += neg_dict[word]\n",
    "\n",
    "        new_df['bias'].append(1)\n",
    "        new_df['positivity'].append(positivity)\n",
    "        new_df['negativity'].append(negativity)\n",
    "        new_df['target_senti'] = df.toxic\n",
    "\n",
    "    return pd.DataFrame(new_df)    \n",
    "\n",
    "    "
   ]
  },
  {
   "cell_type": "raw",
   "id": "aa8de53c",
   "metadata": {
    "colab": {
     "base_uri": "https://localhost:8080/",
     "height": 206
    },
    "id": "66bf5bb8",
    "outputId": "8db30ff0-ffce-4b22-8733-9bddd345980d"
   },
   "source": [
    "trans_df = transform_data(df, pos_dict, neg_dict, V)\n",
    "trans_df.head()"
   ]
  },
  {
   "cell_type": "raw",
   "id": "20964ab1",
   "metadata": {
    "id": "d764b900"
   },
   "source": [
    "kfold = KFold(n_splits = 5, shuffle = True)"
   ]
  },
  {
   "cell_type": "raw",
   "id": "ab089282",
   "metadata": {
    "colab": {
     "base_uri": "https://localhost:8080/",
     "height": 112
    },
    "id": "4573ea76",
    "outputId": "01f4477a-473c-4146-c11e-de0b92ed1264"
   },
   "source": [
    "trans_df.iloc[['1','2']]"
   ]
  },
  {
   "cell_type": "raw",
   "id": "28488563",
   "metadata": {
    "colab": {
     "base_uri": "https://localhost:8080/"
    },
    "id": "26246c3c",
    "outputId": "3d597747-baae-4be4-a65a-4601e38a4ad9"
   },
   "source": [
    "from sklearn.linear_model import LogisticRegression \n",
    "from sklearn.metrics import accuracy_score, f1_score, recall_score, confusion_matrix\n",
    "\n",
    "X = trans_df[['bias', 'positivity', 'negativity']]\n",
    "Y = trans_df.target_senti\n",
    "avg = 0\n",
    "avg_f1 = 0\n",
    "avg_rec = 0\n",
    "\n",
    "for train_index, test_index in kfold.split(trans_df):\n",
    "    X_train, X_test = X.iloc[train_index], X.iloc[test_index]\n",
    "    Y_train, Y_test = Y.iloc[train_index], Y.iloc[test_index]\n",
    "\n",
    "    sk_model = LogisticRegression().fit(X_train,Y_train)\n",
    "    pred = sk_model.predict(X_test)\n",
    "    score = accuracy_score(Y_test, pred)\n",
    "    recall = recall_score(Y_test, pred)\n",
    "    f1 = f1_score(Y_test, pred)\n",
    "    \n",
    "    avg += score\n",
    "    avg_f1 += f1\n",
    "    avg_rec += recall\n",
    "    \n",
    "    print('Acc: {}, F1: {}, Recall: {}'.format(score, f1, recall))\n",
    "    print('Confusion matrix: ')\n",
    "    print(confusion_matrix(Y_test,pred))\n",
    "\n",
    "m = kfold.get_n_splits()\n",
    "\n",
    "print('Avg Acc: {} ,Avg  F1: {}, Avg Recall: {}'.format(avg/m, avg_f1/m, avg_rec/m))"
   ]
  },
  {
   "cell_type": "raw",
   "id": "3eacafdf",
   "metadata": {
    "colab": {
     "base_uri": "https://localhost:8080/"
    },
    "id": "41ic8i1Rf64G",
    "outputId": "1ac74b6a-731a-45b2-9a03-9993b2588245"
   },
   "source": [
    "from joblib import dump\n",
    "\n",
    "dump(sk_model, 'modeLr.joblib')"
   ]
  },
  {
   "cell_type": "raw",
   "id": "c28e0f88",
   "metadata": {
    "id": "HvKVii0phlci"
   },
   "source": [
    "import pickle\n"
   ]
  },
  {
   "cell_type": "raw",
   "id": "d69bc506",
   "metadata": {
    "id": "rvYZii4mgglY"
   },
   "source": [
    "# save the model to disk\n",
    "filename = 'modeLr.sav'\n",
    "pickle.dump(sk_model, open(filename, 'wb'))\n"
   ]
  },
  {
   "cell_type": "code",
   "execution_count": null,
   "id": "1502b850",
   "metadata": {
    "id": "RYMfkRYJhuj5"
   },
   "outputs": [],
   "source": []
  }
 ],
 "metadata": {
  "colab": {
   "name": "kaggle_dump.ipynb",
   "provenance": []
  },
  "interpreter": {
   "hash": "e195a32bf093c68bedb81483247e27cd556f5bde2366ba450d0357449caa0be4"
  },
  "kernelspec": {
   "display_name": "Python 3 (ipykernel)",
   "language": "python",
   "name": "python3"
  },
  "language_info": {
   "codemirror_mode": {
    "name": "ipython",
    "version": 3
   },
   "file_extension": ".py",
   "mimetype": "text/x-python",
   "name": "python",
   "nbconvert_exporter": "python",
   "pygments_lexer": "ipython3",
   "version": "3.8.10"
  }
 },
 "nbformat": 4,
 "nbformat_minor": 5
}
